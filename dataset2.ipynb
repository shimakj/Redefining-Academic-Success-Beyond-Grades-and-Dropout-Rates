{
 "cells": [
  {
   "cell_type": "code",
   "execution_count": 11,
   "id": "3cfb15c9",
   "metadata": {},
   "outputs": [],
   "source": [
    "# open the file \n",
    "import pandas as pd\n",
    "\n"
   ]
  },
  {
   "cell_type": "code",
   "execution_count": 12,
   "id": "910587f4",
   "metadata": {},
   "outputs": [
    {
     "data": {
      "text/plain": [
       "(6607, 20)"
      ]
     },
     "execution_count": 12,
     "metadata": {},
     "output_type": "execute_result"
    }
   ],
   "source": [
    "sg2 = \"C:/Ironhack/ih - projects/Redefining-Academic-Success-Beyond-Grades-and-Dropout-Rates/StudentPerformanceFactors.csv\"\n",
    "dataset2 =pd.read_csv(sg2)\n",
    "\n",
    "dataset2.shape\n"
   ]
  },
  {
   "cell_type": "code",
   "execution_count": 13,
   "id": "34728b8d",
   "metadata": {},
   "outputs": [
    {
     "data": {
      "application/vnd.microsoft.datawrangler.viewer.v0+json": {
       "columns": [
        {
         "name": "index",
         "rawType": "object",
         "type": "string"
        },
        {
         "name": "0",
         "rawType": "object",
         "type": "unknown"
        }
       ],
       "ref": "f51174fd-7ec3-4d30-99a6-f35759aa175b",
       "rows": [
        [
         "Hours_Studied",
         "int64"
        ],
        [
         "Attendance",
         "int64"
        ],
        [
         "Parental_Involvement",
         "object"
        ],
        [
         "Access_to_Resources",
         "object"
        ],
        [
         "Extracurricular_Activities",
         "object"
        ],
        [
         "Sleep_Hours",
         "int64"
        ],
        [
         "Previous_Scores",
         "int64"
        ],
        [
         "Motivation_Level",
         "object"
        ],
        [
         "Internet_Access",
         "object"
        ],
        [
         "Tutoring_Sessions",
         "int64"
        ],
        [
         "Family_Income",
         "object"
        ],
        [
         "Teacher_Quality",
         "object"
        ],
        [
         "School_Type",
         "object"
        ],
        [
         "Peer_Influence",
         "object"
        ],
        [
         "Physical_Activity",
         "int64"
        ],
        [
         "Learning_Disabilities",
         "object"
        ],
        [
         "Parental_Education_Level",
         "object"
        ],
        [
         "Distance_from_Home",
         "object"
        ],
        [
         "Gender",
         "object"
        ],
        [
         "Exam_Score",
         "int64"
        ]
       ],
       "shape": {
        "columns": 1,
        "rows": 20
       }
      },
      "text/plain": [
       "Hours_Studied                  int64\n",
       "Attendance                     int64\n",
       "Parental_Involvement          object\n",
       "Access_to_Resources           object\n",
       "Extracurricular_Activities    object\n",
       "Sleep_Hours                    int64\n",
       "Previous_Scores                int64\n",
       "Motivation_Level              object\n",
       "Internet_Access               object\n",
       "Tutoring_Sessions              int64\n",
       "Family_Income                 object\n",
       "Teacher_Quality               object\n",
       "School_Type                   object\n",
       "Peer_Influence                object\n",
       "Physical_Activity              int64\n",
       "Learning_Disabilities         object\n",
       "Parental_Education_Level      object\n",
       "Distance_from_Home            object\n",
       "Gender                        object\n",
       "Exam_Score                     int64\n",
       "dtype: object"
      ]
     },
     "execution_count": 13,
     "metadata": {},
     "output_type": "execute_result"
    }
   ],
   "source": [
    "dataset2.dtypes"
   ]
  },
  {
   "cell_type": "code",
   "execution_count": 14,
   "id": "2ab5e4ce",
   "metadata": {},
   "outputs": [
    {
     "data": {
      "application/vnd.microsoft.datawrangler.viewer.v0+json": {
       "columns": [
        {
         "name": "index",
         "rawType": "object",
         "type": "string"
        },
        {
         "name": "0",
         "rawType": "int64",
         "type": "integer"
        }
       ],
       "ref": "423b56f8-7cdb-4a33-a11c-52122e3a1fe4",
       "rows": [
        [
         "Hours_Studied",
         "0"
        ],
        [
         "Attendance",
         "0"
        ],
        [
         "Parental_Involvement",
         "0"
        ],
        [
         "Access_to_Resources",
         "0"
        ],
        [
         "Extracurricular_Activities",
         "0"
        ],
        [
         "Sleep_Hours",
         "0"
        ],
        [
         "Previous_Scores",
         "0"
        ],
        [
         "Motivation_Level",
         "0"
        ],
        [
         "Internet_Access",
         "0"
        ],
        [
         "Tutoring_Sessions",
         "0"
        ],
        [
         "Family_Income",
         "0"
        ],
        [
         "Teacher_Quality",
         "78"
        ],
        [
         "School_Type",
         "0"
        ],
        [
         "Peer_Influence",
         "0"
        ],
        [
         "Physical_Activity",
         "0"
        ],
        [
         "Learning_Disabilities",
         "0"
        ],
        [
         "Parental_Education_Level",
         "90"
        ],
        [
         "Distance_from_Home",
         "67"
        ],
        [
         "Gender",
         "0"
        ],
        [
         "Exam_Score",
         "0"
        ]
       ],
       "shape": {
        "columns": 1,
        "rows": 20
       }
      },
      "text/plain": [
       "Hours_Studied                  0\n",
       "Attendance                     0\n",
       "Parental_Involvement           0\n",
       "Access_to_Resources            0\n",
       "Extracurricular_Activities     0\n",
       "Sleep_Hours                    0\n",
       "Previous_Scores                0\n",
       "Motivation_Level               0\n",
       "Internet_Access                0\n",
       "Tutoring_Sessions              0\n",
       "Family_Income                  0\n",
       "Teacher_Quality               78\n",
       "School_Type                    0\n",
       "Peer_Influence                 0\n",
       "Physical_Activity              0\n",
       "Learning_Disabilities          0\n",
       "Parental_Education_Level      90\n",
       "Distance_from_Home            67\n",
       "Gender                         0\n",
       "Exam_Score                     0\n",
       "dtype: int64"
      ]
     },
     "execution_count": 14,
     "metadata": {},
     "output_type": "execute_result"
    }
   ],
   "source": [
    "# Check for null values\n",
    "dataset2.isnull().sum()\n",
    "\n"
   ]
  },
  {
   "cell_type": "code",
   "execution_count": 15,
   "id": "1d5ff286",
   "metadata": {},
   "outputs": [],
   "source": [
    "dataset2 = dataset2.drop_duplicates()"
   ]
  },
  {
   "cell_type": "code",
   "execution_count": 16,
   "id": "18556b2d",
   "metadata": {},
   "outputs": [],
   "source": [
    "dataset2.columns = dataset2.columns.str.strip().str.lower().str.replace(' ', '_')"
   ]
  },
  {
   "cell_type": "markdown",
   "id": "7ca08a02",
   "metadata": {},
   "source": [
    "Data Transformation and Normalization\n"
   ]
  },
  {
   "cell_type": "code",
   "execution_count": 20,
   "id": "024df31d",
   "metadata": {},
   "outputs": [],
   "source": [
    "# Encode Categorical Features\n",
    "# Ordinal categories\n",
    "ordinal_mappings = {\n",
    "    'parental_involvement': {'low': 0, 'Medium': 1, 'High': 2},\n",
    "    'access_to_resources': {'Low': 0, 'Medium': 1, 'High': 2},\n",
    "    'motivation_level': {'Low': 0, 'Medium': 1, 'High': 2},\n",
    "    'family_income': {'Low': 0, 'Medium': 1, 'High': 2},\n",
    "    'teacher_quality': {'Low': 0, 'Medium': 1, 'High': 2},\n",
    "    'parental_education_level': {'High School': 0, 'College': 1, 'Postgraduate': 2},\n",
    "    'distance_from_home': {'Near': 0, 'Moderate': 1, 'Far': 2},\n",
    "    'peer_influence': {'Negative': 0, 'Neutral': 1, 'Positive': 2}\n",
    "}\n",
    "\n",
    "for col, mapping in ordinal_mappings.items():\n",
    "    dataset2[col] = dataset2[col].map(mapping)\n",
    "\n"
   ]
  },
  {
   "cell_type": "code",
   "execution_count": 23,
   "id": "5056fc1a",
   "metadata": {},
   "outputs": [],
   "source": [
    "# Nominal Categories\n",
    "dataset2 = pd.get_dummies(dataset2, columns=['school_type'], drop_first=True)\n"
   ]
  },
  {
   "cell_type": "code",
   "execution_count": 22,
   "id": "eef5900a",
   "metadata": {},
   "outputs": [],
   "source": [
    "# Encoding for Booleans\n",
    "binary_mappings = {\n",
    "    'extracurricular_activities': {'No': 0, 'Yes': 1},\n",
    "    'internet_access': {'No': 0, 'Yes': 1},\n",
    "    'learning_disabilities': {'No': 0, 'Yes': 1},\n",
    "    'gender': {'Male': 0, 'Female': 1}\n",
    "}\n",
    "for col, mapping in binary_mappings.items():\n",
    "    dataset2[col] = dataset2[col].map(mapping)\n"
   ]
  },
  {
   "cell_type": "code",
   "execution_count": 26,
   "id": "ebcecc5d",
   "metadata": {},
   "outputs": [],
   "source": [
    "# Scaling Numerical Features\n",
    "numerical_cols = [\n",
    "  'hours_studied',\n",
    "'attendance',\n",
    "      'parental_involvement',\n",
    "        'access_to_resources',\n",
    "          'extracurricular_activities',\n",
    "            'sleep_hours',\n",
    "              'previous_scores',\n",
    "                'motivation_level',\n",
    "                  'internet_access',\n",
    "                    'tutoring_sessions', \n",
    "                    'family_income', \n",
    "                    'teacher_quality', \n",
    "                    'peer_influence', \n",
    "                    'physical_activity', \n",
    "                    'learning_disabilities', \n",
    "                    'parental_education_level', \n",
    "                    'distance_from_home', \n",
    "                    'gender', \n",
    "                    'exam_score']\n"
   ]
  },
  {
   "cell_type": "code",
   "execution_count": 27,
   "id": "a9bc1466",
   "metadata": {},
   "outputs": [],
   "source": [
    "from sklearn.preprocessing import MinMaxScaler\n",
    "\n",
    "scaler = MinMaxScaler()\n",
    "dataset2[numerical_cols] = scaler.fit_transform(dataset2[numerical_cols])"
   ]
  },
  {
   "cell_type": "markdown",
   "id": "97084025",
   "metadata": {},
   "source": [
    "Feature Engineering\n"
   ]
  },
  {
   "cell_type": "code",
   "execution_count": 30,
   "id": "6c45ce07",
   "metadata": {},
   "outputs": [],
   "source": [
    "# Creating new success metrics\n",
    "dataset2['consistency'] = dataset2[['previous_scores', 'attendance']].mean(axis=1)\n",
    "dataset2['engagement'] = dataset2[['extracurricular_activities', 'tutoring_sessions', 'internet_access']].mean(axis=1)\n",
    "dataset2['learning_disabilities_inverse'] = 1 - dataset2['learning_disabilities']\n",
    "dataset2['resilience'] = dataset2[[\n",
    "    'motivation_level', 'parental_involvement', 'learning_disabilities_inverse'\n",
    "]].mean(axis=1)\n",
    "dataset2['adaptability'] = dataset2[['access_to_resources', 'peer_influence', 'distance_from_home']].mean(axis=1)\n",
    "dataset2['academia'] = dataset2[['exam_score', 'hours_studied', 'tutoring_sessions']].mean(axis=1)\n",
    "\n",
    "# Final success score\n",
    "dataset2['success_score'] = dataset2[[\n",
    "    'consistency', 'engagement', 'resilience', 'adaptability', 'academia'\n",
    "]].mean(axis=1)"
   ]
  },
  {
   "cell_type": "code",
   "execution_count": 31,
   "id": "1223fb19",
   "metadata": {},
   "outputs": [],
   "source": [
    "from sklearn.model_selection import train_test_split\n",
    "\n",
    "X = dataset2.drop(columns=[\"success_score\"]) \n",
    "y = dataset2[\"success_score\"]\n",
    "\n",
    "X_train, X_test, y_train, y_test = train_test_split(X, y, test_size=0.25, random_state=42)\n"
   ]
  },
  {
   "cell_type": "code",
   "execution_count": 32,
   "id": "037ef6dd",
   "metadata": {},
   "outputs": [
    {
     "name": "stdout",
     "output_type": "stream",
     "text": [
      "R2 Score: 0.9631516227555477\n",
      "MSE: 0.0002826770107281206\n"
     ]
    }
   ],
   "source": [
    "from sklearn.ensemble import RandomForestRegressor\n",
    "from sklearn.metrics import mean_squared_error, r2_score\n",
    "\n",
    "model = RandomForestRegressor(random_state=42)\n",
    "model.fit(X_train, y_train)\n",
    "\n",
    "y_pred = model.predict(X_test)\n",
    "print(\"R2 Score:\", r2_score(y_test, y_pred))\n",
    "print(\"MSE:\", mean_squared_error(y_test, y_pred))\n"
   ]
  },
  {
   "cell_type": "code",
   "execution_count": 33,
   "id": "3f02130f",
   "metadata": {},
   "outputs": [
    {
     "data": {
      "text/plain": [
       "<Axes: >"
      ]
     },
     "execution_count": 33,
     "metadata": {},
     "output_type": "execute_result"
    },
    {
     "data": {
      "image/png": "[encoded data removed]",
      "text/plain": [
       "<Figure size 640x480 with 1 Axes>"
      ]
     },
     "metadata": {},
     "output_type": "display_data"
    }
   ],
   "source": [
    "\n",
    "\n",
    "importance = pd.Series(model.feature_importances_, index=X.columns)\n",
    "importance.sort_values(ascending=False).plot(kind='bar')\n"
   ]
  }
 ],
 "metadata": {
  "kernelspec": {
   "display_name": "base",
   "language": "python",
   "name": "python3"
  },
  "language_info": {
   "codemirror_mode": {
    "name": "ipython",
    "version": 3
   },
   "file_extension": ".py",
   "mimetype": "text/x-python",
   "name": "python",
   "nbconvert_exporter": "python",
   "pygments_lexer": "ipython3",
   "version": "3.12.7"
  }
 },
 "nbformat": 4,
 "nbformat_minor": 5
}
